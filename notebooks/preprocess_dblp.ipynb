{
 "cells": [
  {
   "cell_type": "code",
   "execution_count": 1,
   "id": "ecb8fbc9-e0b6-4734-b0a2-0cd2a9388520",
   "metadata": {},
   "outputs": [],
   "source": [
    "import os\n",
    "import sys\n",
    "import numpy as np"
   ]
  },
  {
   "cell_type": "code",
   "execution_count": 2,
   "id": "9d5933ac-c8c5-489d-86a3-9f602f049203",
   "metadata": {},
   "outputs": [],
   "source": [
    "dir_name = '../data/dblp/'\n",
    "raw_file = os.path.join(dir_name, 'DBLPOnlyCitationOct19.txt')"
   ]
  },
  {
   "cell_type": "code",
   "execution_count": 3,
   "id": "c6e44670-c07f-4d76-8a15-6b007aafb74b",
   "metadata": {},
   "outputs": [],
   "source": [
    "with open(raw_file) as f:\n",
    "    lines = f.read().splitlines() "
   ]
  },
  {
   "cell_type": "code",
   "execution_count": 4,
   "id": "04ccb3ca-ad62-497d-b324-c19ee08f114f",
   "metadata": {},
   "outputs": [],
   "source": [
    "titles = []\n",
    "authors = []\n",
    "for line in lines:\n",
    "    if line[:2] == '#*':\n",
    "        assert(len(titles) == len(authors))\n",
    "        titles.append(line[2:])\n",
    "    elif line[:2] == '#@':\n",
    "        assert(len(titles) == 1 + len(authors))\n",
    "        line = line.strip()\n",
    "        if len(line) == 2:\n",
    "            del titles[-1]\n",
    "        else:\n",
    "            authors.append(line[2:])"
   ]
  },
  {
   "cell_type": "code",
   "execution_count": 5,
   "id": "6f24c9a7-87a9-4e59-97ca-005958e7eaab",
   "metadata": {},
   "outputs": [],
   "source": [
    "with open(os.path.join(dir_name, 'authors.txt'), 'w') as out:\n",
    "    out.writelines([author+'\\n' for author in authors])"
   ]
  },
  {
   "cell_type": "code",
   "execution_count": 6,
   "id": "80f162cb-b6cc-401c-964e-fada9a1e4047",
   "metadata": {},
   "outputs": [],
   "source": [
    "with open(os.path.join(dir_name, 'titles.txt'), 'w') as out:\n",
    "    out.writelines([title+'\\n' for title in titles])"
   ]
  },
  {
   "cell_type": "markdown",
   "id": "141c845c-966a-4d0c-81aa-119385b56fb5",
   "metadata": {},
   "source": [
    "## Generate query workloads of size 1k, 2k, 3k, and 4k"
   ]
  },
  {
   "cell_type": "code",
   "execution_count": 8,
   "id": "5af9f29f-b34b-4494-9bd1-fddb5ed5f6e3",
   "metadata": {},
   "outputs": [],
   "source": [
    "# get bag of author names\n",
    "last_names = []\n",
    "for author_list in authors:\n",
    "    splitted = author_list.split(',')\n",
    "    last_names += [name.split(' ')[-1] for name in splitted]"
   ]
  },
  {
   "cell_type": "code",
   "execution_count": 12,
   "id": "fc3ab335-c926-44b2-96f2-a06392b29472",
   "metadata": {},
   "outputs": [
    {
     "name": "stdout",
     "output_type": "stream",
     "text": [
      "random select 1000 last names\n",
      "finish selection. writing to file\n",
      "random select 2000 last names\n",
      "finish selection. writing to file\n",
      "random select 3000 last names\n",
      "finish selection. writing to file\n",
      "random select 4000 last names\n",
      "finish selection. writing to file\n"
     ]
    }
   ],
   "source": [
    "for n in [1000, 2000, 3000, 4000]:\n",
    "    print(f'random select {n} last names')\n",
    "    keep_idxs = np.random.choice(len(last_names), size=n, replace=False)\n",
    "    print('finish selection. writing to file')\n",
    "    with open(os.path.join(dir_name, f'query{n}.txt'), 'w') as out:\n",
    "        out.writelines([f'([^,]+) {last_names[idx]}\\n' for idx in keep_idxs])"
   ]
  },
  {
   "cell_type": "code",
   "execution_count": null,
   "id": "0d294d6e-944d-462e-8dd4-47aa007e8f8a",
   "metadata": {},
   "outputs": [],
   "source": []
  }
 ],
 "metadata": {
  "kernelspec": {
   "display_name": "Python [conda env:older_python]",
   "language": "python",
   "name": "conda-env-older_python-py"
  },
  "language_info": {
   "codemirror_mode": {
    "name": "ipython",
    "version": 3
   },
   "file_extension": ".py",
   "mimetype": "text/x-python",
   "name": "python",
   "nbconvert_exporter": "python",
   "pygments_lexer": "ipython3",
   "version": "3.6.5"
  }
 },
 "nbformat": 4,
 "nbformat_minor": 5
}
