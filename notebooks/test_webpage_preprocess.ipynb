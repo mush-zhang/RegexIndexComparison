{
 "cells": [
  {
   "cell_type": "code",
   "execution_count": 33,
   "id": "7ae80c34-a49a-4104-8fe6-4333076e6534",
   "metadata": {},
   "outputs": [],
   "source": [
    "import os\n",
    "import sys\n",
    "from warcio.archiveiterator import ArchiveIterator"
   ]
  },
  {
   "cell_type": "code",
   "execution_count": 37,
   "id": "75de0249-e3ab-4ab7-9c95-74815241bf10",
   "metadata": {},
   "outputs": [],
   "source": [
    "raw_data_dir = '../data/webpages/'\n",
    "processed_data_dir = '../data/webpages/processed'\n",
    "os.makedirs(processed_data_dir, exist_ok=True)"
   ]
  },
  {
   "cell_type": "code",
   "execution_count": null,
   "id": "709928c3-b8ac-47fd-8972-ad0613a36278",
   "metadata": {},
   "outputs": [],
   "source": [
    "upper_limit = 700000"
   ]
  },
  {
   "cell_type": "code",
   "execution_count": null,
   "id": "49eb8f8f-c973-4798-a348-eca197aa53da",
   "metadata": {},
   "outputs": [],
   "source": [
    "i = 0\n",
    "\n",
    "for filename in os.listdir(raw_data_dir):\n",
    "    if '.warc' not in filename:\n",
    "        continue\n",
    "    full_fname = os.path.join(raw_data_dir, filename)\n",
    "    with open(full_fname, 'rb') as stream:\n",
    "        j = 0\n",
    "        for record in ArchiveIterator(stream):\n",
    "            if record.rec_type == 'warcinfo':\n",
    "                print('-------------------')\n",
    "                print(record.raw_stream.read())\n",
    "                print('\\n-------------------')\n",
    "\n",
    "            elif record.rec_type == 'response':\n",
    "                header = record.http_headers.get_header('Content-Type')\n",
    "                if header is not None and 'text/html' in header:\n",
    "                    print(record.rec_headers.get_header('WARC-Target-URI'))\n",
    "                    with open(os.path.join(processed_data_dir, f'{filename}_{j}.txt'), 'wb') as file:\n",
    "                        file.write(record.content_stream().read())\n",
    "                    j += 1\n",
    "                    if i+j > upper_limit:\n",
    "                        sys.exit()\n",
    "\n",
    "    i += j"
   ]
  },
  {
   "cell_type": "code",
   "execution_count": null,
   "id": "59c60596-fe97-4a0a-83bb-f6f39e49780b",
   "metadata": {},
   "outputs": [],
   "source": [
    "from comcrawl import IndexClient\n",
    "client = IndexClient([\"2013-48\"])\n",
    "import cdx_toolkit\n",
    "\n",
    "cdx = cdx_toolkit.CDXFetcher(source='cc')\n",
    "params = {\n",
    "    'from_ts': '20131204131715',\n",
    "    'to': '20131204131716'\n",
    "}\n",
    "# index_list = cdx.customize_index_list()\n",
    "# url = 'commoncrawl.org/*'\n",
    "url = 'wikipedia.org/*'\n",
    "# url = 'commoncrawl.org/crawl-data/CC-MAIN-2013-48/*'\n",
    "print(url, 'size estimate', cdx.get_size_estimate(url, params))\n",
    "\n",
    "i = 0\n",
    "for obj in cdx.iter(url, **params, limit=10):\n",
    "    r = obj.fetch_warc_record()\n",
    "    stream = obj.content_stream.read()\n",
    "    # print(stream)\n",
    "    print(i)\n",
    "    i += 1"
   ]
  },
  {
   "cell_type": "code",
   "execution_count": null,
   "id": "ce7d4966-33e5-4d56-bd18-7dbda0ae3e6e",
   "metadata": {},
   "outputs": [],
   "source": []
  }
 ],
 "metadata": {
  "kernelspec": {
   "display_name": "Python [conda env:reg_idx]",
   "language": "python",
   "name": "conda-env-reg_idx-py"
  },
  "language_info": {
   "codemirror_mode": {
    "name": "ipython",
    "version": 3
   },
   "file_extension": ".py",
   "mimetype": "text/x-python",
   "name": "python",
   "nbconvert_exporter": "python",
   "pygments_lexer": "ipython3",
   "version": "3.12.3"
  }
 },
 "nbformat": 4,
 "nbformat_minor": 5
}
