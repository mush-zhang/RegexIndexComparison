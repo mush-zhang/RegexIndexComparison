{
 "cells": [
  {
   "cell_type": "code",
   "execution_count": 1,
   "id": "80a5aefd-64fd-4a24-b64f-454432646301",
   "metadata": {},
   "outputs": [],
   "source": [
    "import os\n",
    "import sys\n",
    "import numpy as np\n",
    "import string\n",
    "import pickle\n",
    "\n",
    "from collections import defaultdict\n",
    "from multiprocessing import Process, Manager, cpu_count"
   ]
  },
  {
   "cell_type": "code",
   "execution_count": 2,
   "id": "81f899eb-06d6-41c8-af16-bb0cb2e629fc",
   "metadata": {},
   "outputs": [],
   "source": [
    "dir_name = '../data/synthetic/'\n",
    "result_dir_large = os.path.join(dir_name, 'large')\n",
    "result_dir_small = os.path.join(dir_name, 'small')"
   ]
  },
  {
   "cell_type": "code",
   "execution_count": null,
   "id": "5923f4d6-ed05-429f-96dd-e40b9c9f25e0",
   "metadata": {},
   "outputs": [],
   "source": [
    "DATA_NUM = 400000\n",
    "QUERY_NUM = 230\n",
    "MEAN = [800, 1300, 1900, 200]\n",
    "SD = [500, 300, 200, 100]"
   ]
  },
  {
   "cell_type": "markdown",
   "id": "e5384824-0c15-4261-8528-376dc200c216",
   "metadata": {},
   "source": [
    "## Get all prefix-free multi-grams"
   ]
  },
  {
   "cell_type": "code",
   "execution_count": null,
   "id": "a709a900-cf22-4359-9f33-0e739006de04",
   "metadata": {},
   "outputs": [],
   "source": [
    "# Parameters\n",
    "global MIN_LENGTH\n",
    "MIN_LENGTH = 3\n",
    "global MAX_LENGTH\n",
    "MAX_LENGTH = 3\n",
    "global ALPHABET\n",
    "ALPHABET = string.ascii_uppercase"
   ]
  },
  {
   "cell_type": "code",
   "execution_count": 6,
   "id": "4feed031-2198-4340-bf70-a7c6aa676456",
   "metadata": {},
   "outputs": [],
   "source": [
    "class TrieNode:\n",
    "    \"\"\"A node in the Trie.\"\"\"\n",
    "    def __init__(self):\n",
    "        self.children = defaultdict(TrieNode)\n",
    "        self.is_end_of_string = False\n",
    "\n",
    "class Trie:\n",
    "    \"\"\"Trie data structure to store strings and check for prefixes.\"\"\"\n",
    "    def __init__(self):\n",
    "        self.root = TrieNode()\n",
    "\n",
    "    def insert(self, s):\n",
    "        \"\"\"Insert a string into the Trie.\"\"\"\n",
    "        node = self.root\n",
    "        for char in s:\n",
    "            node = node.children[char]\n",
    "        node.is_end_of_string = True\n",
    "\n",
    "    def is_prefix(self, s):\n",
    "        \"\"\"Check if 's' or any of its prefixes exist in the Trie.\"\"\"\n",
    "        node = self.root\n",
    "        for char in s:\n",
    "            if node.is_end_of_string:\n",
    "                return True  # 's' is a prefix of an existing string\n",
    "            if char not in node.children:\n",
    "                return False  # No conflict\n",
    "            node = node.children[char]\n",
    "        return node.is_end_of_string  # Exact match check\n",
    "\n",
    "# def generate_prefix_free_set(start_letter, MIN_LENGTH, MAX_LENGTH, shared_set, lock):\n",
    "def generate_prefix_free_set(start_letter, shared_set, lock):\n",
    "    \"\"\"Generate a prefix-free set starting with a specific letter.\"\"\"\n",
    "    trie = Trie()\n",
    "\n",
    "    def backtrack(current_string):\n",
    "        \"\"\"Recursively generate prefix-free strings.\"\"\"\n",
    "        if MIN_LENGTH <= len(current_string) <= MAX_LENGTH:\n",
    "            if not trie.is_prefix(current_string):\n",
    "                # Add to shared set in a thread-safe way\n",
    "                with lock:\n",
    "                    shared_set.append(current_string)\n",
    "                trie.insert(current_string)\n",
    "\n",
    "        if len(current_string) >= MAX_LENGTH:\n",
    "            return\n",
    "\n",
    "        for char in ALPHABET:\n",
    "            backtrack(current_string + char)\n",
    "\n",
    "    # Start the generation with the provided start letter\n",
    "    backtrack(start_letter)"
   ]
  },
  {
   "cell_type": "code",
   "execution_count": null,
   "id": "390a9050-acf2-4e84-b415-c7c92a32660a",
   "metadata": {},
   "outputs": [],
   "source": [
    "gram_fn = f'multigrams_{MIN_LENGTH}-{MAX_LENGTH}.pkl'\n",
    "\n",
    "if os.path.exists(gram_fn):\n",
    "    with open(gram_fn, 'rb') as f:\n",
    "        prefix_free_strings = pickle.load(f)\n",
    "    print(f\"Loaded {len(prefix_free_strings)} prefix-free strings.\")\n",
    "else:\n",
    "    # Shared set and lock for thread-safe access\n",
    "    manager = Manager()\n",
    "    shared_set = manager.list()  # Use a shared list to store results\n",
    "    lock = manager.Lock()\n",
    "\n",
    "    # Create processes for parallel generation\n",
    "    processes = []\n",
    "    for i in range(13):  # 13 threads\n",
    "        start_letter = ALPHABET[i]\n",
    "        p = Process(target=generate_prefix_free_set,\n",
    "                    args=(start_letter, shared_set, lock))\n",
    "        processes.append(p)\n",
    "\n",
    "    # Start all processes\n",
    "    for p in processes:\n",
    "        p.start()\n",
    "\n",
    "    # Wait for all processes to complete\n",
    "    for p in processes:\n",
    "        p.join()\n",
    "\n",
    "    # Convert the shared list to a set and print the results\n",
    "    prefix_free_strings = set(shared_set)\n",
    "\n",
    "    with open(gram_fn, 'wb') as f:\n",
    "        pickle.dump(prefix_free_strings, f)\n",
    "    print(f\"Generated {len(prefix_free_strings)} prefix-free strings.\")"
   ]
  },
  {
   "cell_type": "markdown",
   "id": "f67dad45-0ed0-4ed7-8497-1ac7a83e6239",
   "metadata": {},
   "source": [
    "## Assign frequencies to each multigrams"
   ]
  },
  {
   "cell_type": "code",
   "execution_count": null,
   "id": "7f4e2856-1e64-4a86-ae89-fe30539511a4",
   "metadata": {},
   "outputs": [],
   "source": []
  }
 ],
 "metadata": {
  "kernelspec": {
   "display_name": "Python 3 (ipykernel)",
   "language": "python",
   "name": "python3"
  },
  "language_info": {
   "codemirror_mode": {
    "name": "ipython",
    "version": 3
   },
   "file_extension": ".py",
   "mimetype": "text/x-python",
   "name": "python",
   "nbconvert_exporter": "python",
   "pygments_lexer": "ipython3",
   "version": "3.7.15"
  }
 },
 "nbformat": 4,
 "nbformat_minor": 5
}
