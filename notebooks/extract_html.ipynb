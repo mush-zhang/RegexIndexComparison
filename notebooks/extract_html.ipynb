{
 "cells": [
  {
   "cell_type": "code",
   "execution_count": 1,
   "id": "f6281326-d16e-48e1-9b79-b629cdafa019",
   "metadata": {},
   "outputs": [],
   "source": [
    "import os\n",
    "import sys\n",
    "import gzip\n",
    "import random\n",
    "\n",
    "import re\n",
    "import wget\n",
    "from warcio.archiveiterator import ArchiveIterator"
   ]
  },
  {
   "cell_type": "code",
   "execution_count": 2,
   "id": "6cced0d5-80b7-40dd-a201-d1c47df96d50",
   "metadata": {},
   "outputs": [],
   "source": [
    "FILE_UPPER_LIMIT = 700000\n",
    "RAND_PROB = 0.002\n",
    "MIN_EACH_REG = 10000"
   ]
  },
  {
   "cell_type": "code",
   "execution_count": 3,
   "id": "99db6a63-7a5a-4afa-8461-9c66aa93defe",
   "metadata": {},
   "outputs": [],
   "source": [
    "# create processed file folder if not exists\n",
    "raw_data_dir = '.'\n",
    "processed_data_dir = 'processed'\n",
    "os.makedirs(processed_data_dir, exist_ok=True)"
   ]
  },
  {
   "cell_type": "code",
   "execution_count": null,
   "id": "9b832c56-d844-4a97-809b-73fa89439067",
   "metadata": {},
   "outputs": [],
   "source": [
    "# download the index file\n",
    "temp_file_parent_fd = '.' #'/mnt/'\n",
    "temp_file_fd = os.path.join(temp_file_parent_fd, 'webtemp')\n",
    "os.makedirs(temp_file_fd, exist_ok=True)\n",
    "wget.download('https://data.commoncrawl.org/crawl-data/CC-MAIN-2013-48/warc.paths.gz', raw_data_dir)\n",
    "\n",
    "with gzip.open('warc.paths.gz', 'rb') as f:\n",
    "    # for p in f.read():\n",
    "    #     print(p)\n",
    "    paths = f.readlines()\n",
    "print(paths[0])"
   ]
  },
  {
   "cell_type": "code",
   "execution_count": null,
   "id": "99d7c1c5-7122-40d0-a482-4521c53c5f7b",
   "metadata": {},
   "outputs": [],
   "source": [
    "# get all webpage regexes\n",
    "regexes = []\n",
    "counts = []\n",
    "with open('') as f:\n",
    "    raw_regexes = f.readlines()\n",
    "for raw_reg in raw_regexes:\n",
    "    print(raw_reg)\n",
    "    regexp = re.compile(raw_reg)\n",
    "    regexes.append(regexp) \n",
    "    counts.append(0)"
   ]
  },
  {
   "cell_type": "code",
   "execution_count": null,
   "id": "c690edf3-3ed6-4505-b289-788c54e9db17",
   "metadata": {},
   "outputs": [],
   "source": [
    "def check_eligible(curr_content):\n",
    "    # check if it has a regex match\n",
    "    result = False\n",
    "    for idx in range(len(regexes)):\n",
    "        reg = regexes[idx]\n",
    "        curr_result = reg.search(curr_content)\n",
    "        if curr_result:\n",
    "            result = True\n",
    "            counts[idx] += 1\n",
    "            if counts[idx] == 1:\n",
    "                print(f'Find match for {raw_regexes[idx]} 1st time')\n",
    "\n",
    "            if counts[idx] >= MIN_EACH_REG:\n",
    "                print(f'NUMBER SATISFIED: {raw_regexes[idx]}')\n",
    "                del counts[idx]\n",
    "                del raw_regexes[idx]\n",
    "                del regexes[idx]\n",
    "            break\n",
    "\n",
    "    if not result:\n",
    "        result = random.random() < RAND_PROB\n",
    "    return result"
   ]
  },
  {
   "cell_type": "code",
   "execution_count": null,
   "id": "4af200a9-e7bb-4f2a-aab6-926ee6babb92",
   "metadata": {},
   "outputs": [],
   "source": [
    "def extract_html(filename, curr_count):\n",
    "    idx = 0\n",
    "    full_fname = os.path.join(temp_file_fd, filename)\n",
    "    with open(full_fname, 'rb') as stream:\n",
    "        for record in ArchiveIterator(stream):\n",
    "            if record.rec_type == 'warcinfo':\n",
    "                print('-------------------')\n",
    "                print(record.raw_stream.read())\n",
    "                print('\\n-------------------')\n",
    "\n",
    "            elif record.rec_type == 'response':\n",
    "                header = record.http_headers.get_header('Content-Type')\n",
    "                if header is not None and 'text/html' in header:\n",
    "                    curr_content = record.content_stream().read()\n",
    "                    \n",
    "                    if check_eligible(curr_content):\n",
    "                        with open(os.path.join(processed_data_dir, f'{filename}_{idx}.txt'), 'wb') as file:\n",
    "                            file.write(curr_content)\n",
    "                        curr_count += 1\n",
    "                        if curr_count >= FILE_UPPER_LIMIT:\n",
    "                            break\n",
    "                    idx += 1\n",
    "    return curr_count"
   ]
  },
  {
   "cell_type": "code",
   "execution_count": null,
   "id": "a0db3e3d-2ec7-4c3f-be38-b74880a57d00",
   "metadata": {},
   "outputs": [],
   "source": [
    "finish = False\n",
    "\n",
    "webpage_count = 0\n",
    "\n",
    "for p in paths:\n",
    "    if finish:\n",
    "        break\n",
    "    # download the warc file using path index\n",
    "    wget.download(f'https://data.commoncrawl.org/{p}', temp_file_fd)\n",
    "    \n",
    "    filename = p.split('/')[-1]\n",
    "    webpage_count = extract_html(filename, webpage_count)\n",
    "    os.remove(os.path.join(temp_file_fd, filename))\n",
    "    if webpage_count >= FILE_UPPER_LIMIT:\n",
    "        break"
   ]
  }
 ],
 "metadata": {
  "kernelspec": {
   "display_name": "Python [conda env:reg_idx]",
   "language": "python",
   "name": "conda-env-reg_idx-py"
  },
  "language_info": {
   "codemirror_mode": {
    "name": "ipython",
    "version": 3
   },
   "file_extension": ".py",
   "mimetype": "text/x-python",
   "name": "python",
   "nbconvert_exporter": "python",
   "pygments_lexer": "ipython3",
   "version": "3.12.3"
  }
 },
 "nbformat": 4,
 "nbformat_minor": 5
}
