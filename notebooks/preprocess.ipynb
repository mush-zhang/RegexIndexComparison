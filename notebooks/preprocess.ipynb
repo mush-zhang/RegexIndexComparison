{
 "cells": [
  {
   "cell_type": "code",
   "execution_count": 3,
   "id": "83a17c6c-ba1d-49f5-b2c6-85cac91e3d14",
   "metadata": {},
   "outputs": [],
   "source": [
    "import pandas as pd\n",
    "import numpy as np\n",
    "import os"
   ]
  },
  {
   "cell_type": "code",
   "execution_count": 17,
   "id": "b16c56ed-3325-44e3-bfde-0ca5d24e6cfd",
   "metadata": {},
   "outputs": [],
   "source": [
    "root_dir = '../result/testBest'\n",
    "id_cols = ['name', 'num_threads', 'gram_size', 'selectivity', 'num_keys']"
   ]
  },
  {
   "cell_type": "code",
   "execution_count": 9,
   "id": "988725c5-ec32-4367-b59b-dfaf64050259",
   "metadata": {},
   "outputs": [],
   "source": [
    "summary_path = os.path.join(root_dir, 'summary.csv')\n",
    "summary_df = pd.read_csv(summary_path)"
   ]
  },
  {
   "cell_type": "code",
   "execution_count": 10,
   "id": "7a9443c1-bf4a-4e48-99fa-487a135d85d7",
   "metadata": {},
   "outputs": [],
   "source": [
    "summary_df.ffill(inplace=True)\n",
    "summary_df['overall_match_time'] = summary_df['compile_time'] + summary_df['match_time']\n",
    "summary_df.rename(columns={'overall_time': 'overall_index_time', '    name': 'name'}, inplace=True)\n",
    "summary_df['overall_time'] = summary_df['overall_index_time'] + summary_df['overall_match_time']"
   ]
  },
  {
   "cell_type": "code",
   "execution_count": 26,
   "id": "c6ff0da9-4105-4abf-ba5b-4bbe30244d11",
   "metadata": {},
   "outputs": [],
   "source": [
    "# code for getting end-to-end trimmed mean\n",
    "res = summary_df.sort_values('overall_time')\n",
    "res = res.drop(res.groupby(by=id_cols).tail(1).index)\n",
    "res = res.drop(res.groupby(by=id_cols).head(1).index)"
   ]
  },
  {
   "cell_type": "code",
   "execution_count": 27,
   "id": "3421280e-d2cb-443c-99e0-b62508dd29af",
   "metadata": {},
   "outputs": [],
   "source": [
    "res_df = res.groupby(by=id_cols, as_index=False).mean(numeric_only=True).apply(lambda x: x)"
   ]
  },
  {
   "cell_type": "code",
   "execution_count": 28,
   "id": "1c213a6a-0844-493d-93e4-f8a79c035486",
   "metadata": {},
   "outputs": [
    {
     "data": {
      "text/html": [
       "<div>\n",
       "<style scoped>\n",
       "    .dataframe tbody tr th:only-of-type {\n",
       "        vertical-align: middle;\n",
       "    }\n",
       "\n",
       "    .dataframe tbody tr th {\n",
       "        vertical-align: top;\n",
       "    }\n",
       "\n",
       "    .dataframe thead th {\n",
       "        text-align: right;\n",
       "    }\n",
       "</style>\n",
       "<table border=\"1\" class=\"dataframe\">\n",
       "  <thead>\n",
       "    <tr style=\"text-align: right;\">\n",
       "      <th></th>\n",
       "      <th>name</th>\n",
       "      <th>num_threads</th>\n",
       "      <th>gram_size</th>\n",
       "      <th>selectivity</th>\n",
       "      <th>num_keys</th>\n",
       "      <th>selection_time</th>\n",
       "      <th>build_time</th>\n",
       "      <th>overall_index_time</th>\n",
       "      <th>index_size</th>\n",
       "      <th>compile_time</th>\n",
       "      <th>match_time</th>\n",
       "      <th>overall_match_time</th>\n",
       "      <th>overall_time</th>\n",
       "    </tr>\n",
       "  </thead>\n",
       "  <tbody>\n",
       "    <tr>\n",
       "      <th>0</th>\n",
       "      <td>BEST</td>\n",
       "      <td>1.0</td>\n",
       "      <td>-1.0</td>\n",
       "      <td>0.1</td>\n",
       "      <td>7.0</td>\n",
       "      <td>10.3965</td>\n",
       "      <td>0.000789</td>\n",
       "      <td>10.3973</td>\n",
       "      <td>1032.0</td>\n",
       "      <td>0.000084</td>\n",
       "      <td>0.059303</td>\n",
       "      <td>0.059387</td>\n",
       "      <td>10.456687</td>\n",
       "    </tr>\n",
       "    <tr>\n",
       "      <th>1</th>\n",
       "      <td>BEST</td>\n",
       "      <td>1.0</td>\n",
       "      <td>-1.0</td>\n",
       "      <td>0.2</td>\n",
       "      <td>8.0</td>\n",
       "      <td>33.1142</td>\n",
       "      <td>0.001477</td>\n",
       "      <td>33.1157</td>\n",
       "      <td>1592.0</td>\n",
       "      <td>0.000070</td>\n",
       "      <td>0.059935</td>\n",
       "      <td>0.060004</td>\n",
       "      <td>33.175704</td>\n",
       "    </tr>\n",
       "    <tr>\n",
       "      <th>2</th>\n",
       "      <td>BEST</td>\n",
       "      <td>1.0</td>\n",
       "      <td>-1.0</td>\n",
       "      <td>0.3</td>\n",
       "      <td>8.0</td>\n",
       "      <td>34.5457</td>\n",
       "      <td>0.001863</td>\n",
       "      <td>34.5476</td>\n",
       "      <td>1592.0</td>\n",
       "      <td>0.000074</td>\n",
       "      <td>0.066480</td>\n",
       "      <td>0.066554</td>\n",
       "      <td>34.614154</td>\n",
       "    </tr>\n",
       "    <tr>\n",
       "      <th>3</th>\n",
       "      <td>BEST</td>\n",
       "      <td>1.0</td>\n",
       "      <td>-1.0</td>\n",
       "      <td>0.5</td>\n",
       "      <td>10.0</td>\n",
       "      <td>78.5247</td>\n",
       "      <td>0.002235</td>\n",
       "      <td>78.5269</td>\n",
       "      <td>1832.0</td>\n",
       "      <td>0.000075</td>\n",
       "      <td>0.062817</td>\n",
       "      <td>0.062893</td>\n",
       "      <td>78.589793</td>\n",
       "    </tr>\n",
       "    <tr>\n",
       "      <th>4</th>\n",
       "      <td>BEST</td>\n",
       "      <td>1.0</td>\n",
       "      <td>-1.0</td>\n",
       "      <td>0.7</td>\n",
       "      <td>12.0</td>\n",
       "      <td>490.4370</td>\n",
       "      <td>0.015259</td>\n",
       "      <td>490.4520</td>\n",
       "      <td>1832.0</td>\n",
       "      <td>0.000084</td>\n",
       "      <td>0.057493</td>\n",
       "      <td>0.057577</td>\n",
       "      <td>490.509577</td>\n",
       "    </tr>\n",
       "  </tbody>\n",
       "</table>\n",
       "</div>"
      ],
      "text/plain": [
       "   name  num_threads  gram_size  selectivity  num_keys  selection_time  \\\n",
       "0  BEST          1.0       -1.0          0.1       7.0         10.3965   \n",
       "1  BEST          1.0       -1.0          0.2       8.0         33.1142   \n",
       "2  BEST          1.0       -1.0          0.3       8.0         34.5457   \n",
       "3  BEST          1.0       -1.0          0.5      10.0         78.5247   \n",
       "4  BEST          1.0       -1.0          0.7      12.0        490.4370   \n",
       "\n",
       "   build_time  overall_index_time  index_size  compile_time  match_time  \\\n",
       "0    0.000789             10.3973      1032.0      0.000084    0.059303   \n",
       "1    0.001477             33.1157      1592.0      0.000070    0.059935   \n",
       "2    0.001863             34.5476      1592.0      0.000074    0.066480   \n",
       "3    0.002235             78.5269      1832.0      0.000075    0.062817   \n",
       "4    0.015259            490.4520      1832.0      0.000084    0.057493   \n",
       "\n",
       "   overall_match_time  overall_time  \n",
       "0            0.059387     10.456687  \n",
       "1            0.060004     33.175704  \n",
       "2            0.066554     34.614154  \n",
       "3            0.062893     78.589793  \n",
       "4            0.057577    490.509577  "
      ]
     },
     "execution_count": 28,
     "metadata": {},
     "output_type": "execute_result"
    }
   ],
   "source": [
    "res_df"
   ]
  },
  {
   "cell_type": "code",
   "execution_count": null,
   "id": "db0f629e-c9a8-4f09-9850-c8fc630954d7",
   "metadata": {},
   "outputs": [],
   "source": []
  }
 ],
 "metadata": {
  "kernelspec": {
   "display_name": "Python 3 (ipykernel)",
   "language": "python",
   "name": "python3"
  },
  "language_info": {
   "codemirror_mode": {
    "name": "ipython",
    "version": 3
   },
   "file_extension": ".py",
   "mimetype": "text/x-python",
   "name": "python",
   "nbconvert_exporter": "python",
   "pygments_lexer": "ipython3",
   "version": "3.7.15"
  }
 },
 "nbformat": 4,
 "nbformat_minor": 5
}
